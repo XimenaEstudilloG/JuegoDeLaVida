{
  "nbformat": 4,
  "nbformat_minor": 0,
  "metadata": {
    "colab": {
      "name": "Array2dADT_1310.ipynb",
      "provenance": [],
      "collapsed_sections": [],
      "authorship_tag": "ABX9TyPW8G/MUWC+Q3U88G3mJb1f",
      "include_colab_link": true
    },
    "kernelspec": {
      "name": "python3",
      "display_name": "Python 3"
    },
    "language_info": {
      "name": "python"
    }
  },
  "cells": [
    {
      "cell_type": "markdown",
      "metadata": {
        "id": "view-in-github",
        "colab_type": "text"
      },
      "source": [
        "<a href=\"https://colab.research.google.com/github/XimenaEstudilloG/JuegoDeLaVida/blob/main/Array2dADT_1310.ipynb\" target=\"_parent\"><img src=\"https://colab.research.google.com/assets/colab-badge.svg\" alt=\"Open In Colab\"/></a>"
      ]
    },
    {
      "cell_type": "code",
      "metadata": {
        "id": "oD9pfjo5nNwJ"
      },
      "source": [
        "class Array2dADT:\n",
        "    def __init__( self , ren , col ):\n",
        "        self.__data = [ [ 0 for y in range(col) ] for x in range(ren) ]\n",
        "    def clear( self , dato ):\n",
        "        self.__data = [ [ dato for y in range(self.get_col_size()) ] for x in range(self.get_row_size()) ] \n",
        "    \n",
        "    def get_row_size( self ):\n",
        "        return len( self.__data )\n",
        "\n",
        "    def get_col_size( self ):\n",
        "        return len( self.__data[0] )\n",
        "\n",
        "    def set_item( self , ren , col , dato ):\n",
        "        self.__data[ren][col] = dato\n",
        "\n",
        "    def get_item( self , ren , col ):\n",
        "        return self.__data[ren][col]\n",
        "\n",
        "    def to_string( self ):\n",
        "        cadena = \"\"\n",
        "        for renglon in self.__data:\n",
        "            cadena = cadena + \"|\"\n",
        "            for dato in renglon:\n",
        "                cadena = cadena + str(dato) + \" | \"\n",
        "            cadena = cadena + \"\\n\"\n",
        "        return cadena\n",
        "                #cadena.append(dato) --> otra opcion\n"
      ],
      "execution_count": null,
      "outputs": []
    },
    {
      "cell_type": "code",
      "metadata": {
        "colab": {
          "base_uri": "https://localhost:8080/"
        },
        "id": "s3fgA6AvofJC",
        "outputId": "247abc1f-debe-4cb5-c93e-246bd7ed9cb4"
      },
      "source": [
        "a2d = Array2dADT( 3 , 6 )\n",
        "print(f\"Ren: { a2d.get_row_size() }\")\n",
        "print(f\"Col: { a2d.get_col_size() }\")\n",
        "print(a2d.to_string())\n",
        "print(\"\")\n",
        "a2d.clear(\"M\")\n",
        "print(a2d.to_string())\n",
        "a2d.set_item(2,3,'p')\n",
        "print(a2d.to_string())\n",
        "print(a2d.get_item( 2 , 3 ))"
      ],
      "execution_count": null,
      "outputs": [
        {
          "output_type": "stream",
          "name": "stdout",
          "text": [
            "Ren: 3\n",
            "Col: 6\n",
            "|0 | 0 | 0 | 0 | 0 | 0 | \n",
            "|0 | 0 | 0 | 0 | 0 | 0 | \n",
            "|0 | 0 | 0 | 0 | 0 | 0 | \n",
            "\n",
            "\n",
            "|M | M | M | M | M | M | \n",
            "|M | M | M | M | M | M | \n",
            "|M | M | M | M | M | M | \n",
            "\n",
            "|M | M | M | M | M | M | \n",
            "|M | M | M | M | M | M | \n",
            "|M | M | M | p | M | M | \n",
            "\n",
            "p\n"
          ]
        }
      ]
    },
    {
      "cell_type": "code",
      "metadata": {
        "id": "mxgNsp7j38mB"
      },
      "source": [
        "\"\"\"\n",
        "Los datos iniciales como lo son:\n",
        "1._ Tamaño de la poblacion (ren y )\n",
        "2._ La poblacion inicial\n",
        "3._ En número de generaciones a simular\n",
        "\n",
        "Estaran proporcionadas por un archivo de \n",
        "entrada separado por comas (CSV):\n",
        "\n",
        "\"\"\"\n",
        "\n",
        "class JuegoDeLaVida:\n",
        "    def __init__( self , ruta_archivo ):\n",
        "\n",
        "        self.rens = None\n",
        "        self.cols = None\n",
        "        self.tablero = None   \n",
        "        self.generaciones = None\n",
        "        self.read_game_data( ruta_archivo )\n",
        "\n",
        "    def read_game_data( self, archivo ):\n",
        "        archivo = open(archivo , 'rt')\n",
        "        lineas = archivo.readlines()\n",
        "        for index in range(len(lineas)):   #quita espacios en blanco\n",
        "            lineas[index] = lineas[index].strip()\n",
        "        self.rens = int( lineas[0] )\n",
        "        self.cols = int( lineas[1] )\n",
        "        self.tablero = Array2dADT(self.rens , self.cols)\n",
        "        r = 0\n",
        "        c = 0\n",
        "        \n",
        "        for index in range( 2 , 2 + self.rens , 1 ):\n",
        "            c=0\n",
        "            for dato in lineas[index].split(','):\n",
        "                self.tablero.set_item( r , c , int(dato))\n",
        "                c += 1\n",
        "            r += 1\n",
        "\n",
        "        self.generaciones = int( lineas[len(lineas) -1 ])\n",
        "        print( \"Generaciones:\" , self.generaciones)\n",
        "        print( \"Generación Inicial: \")\n",
        "\n",
        "        print(self.tablero.to_string())\n",
        "\n",
        "    def get_vecinos( self , r , c):\n",
        "        vecinos = []\n",
        "        for ren in range( r-1 , r+2 , 1 ):\n",
        "            for col in range( c-1 , r+2 , 1):\n",
        "                if ren < 0 or ren >= self.tablero.get_row_size() or col < 0 or col >= self.tablero.get_col_size() or (ren==r and col==c):\n",
        "                       pass\n",
        "                else:\n",
        "                    vecinos.append((ren,col))\n",
        "        return vecinos\n",
        "    \n",
        "    def get_vecinos_vivos( self , r , c ):\n",
        "        vecinos = self.get_vecinos(r , c)\n",
        "        vivos = 0\n",
        "        for par in vecinos:\n",
        "            if self.tablero.get_item( par[0] , par[1] ) == 1:\n",
        "                vivos += 1\n",
        "        return vivos\n",
        "\n",
        "    \n",
        "    def calcular_siguiente(self):\n",
        "        nueva_gen = Array2dADT(self.rens, self.cols)\n",
        "        for generaciones in range(self.generaciones):\n",
        "            for ren in range(self.rens):\n",
        "                for col in range(self.cols):\n",
        "                    vivos = self.get_vecinos_vivos(ren,col)\n",
        "                    estado = self.tablero.get_item(ren,col)\n",
        "                    if estado == 1:\n",
        "                        if vivos == 2 or vivos == 3:\n",
        "                            nueva_gen.set_item(ren,col,int(1))\n",
        "                        elif vivos == 1 or vivos == 0:\n",
        "                            nueva_gen.set_item(ren,col,int(0))\n",
        "                        elif vivos >= 4:\n",
        "                            nueva_gen.set_item(ren,col,int(0))\n",
        "                        elif estado == 0:\n",
        "                            if vivos == 3:\n",
        "                                nueva_gen.set_item(ren,col,int(1)) \n",
        "        self.tablero = nueva_gen \n",
        "        print(\"Generación: \", generaciones+1 )   \n",
        "        print(self.tablero.to_string()) \n",
        "\n",
        "\n"
      ],
      "execution_count": 70,
      "outputs": []
    },
    {
      "cell_type": "code",
      "metadata": {
        "id": "HH_xk6es6Keu",
        "colab": {
          "base_uri": "https://localhost:8080/"
        },
        "outputId": "3537f5b7-bde0-4352-c785-301871404cc6"
      },
      "source": [
        "juego = JuegoDeLaVida( \"entrada2.txt\" )\n",
        "juego.calcular_siguiente()"
      ],
      "execution_count": 71,
      "outputs": [
        {
          "output_type": "stream",
          "name": "stdout",
          "text": [
            "Generaciones: 22\n",
            "Generación Inicial: \n",
            "|0 | 0 | 0 | 0 | 0 | 0 | 0 | 0 | 0 | 0 | 1 | 0 | 1 | 0 | 0 | \n",
            "|0 | 0 | 1 | 0 | 0 | 1 | 0 | 0 | 0 | 0 | 0 | 0 | 0 | 0 | 0 | \n",
            "|0 | 0 | 0 | 0 | 0 | 0 | 1 | 0 | 0 | 0 | 0 | 0 | 1 | 1 | 0 | \n",
            "|0 | 1 | 1 | 0 | 0 | 0 | 0 | 1 | 0 | 0 | 0 | 0 | 0 | 0 | 0 | \n",
            "|0 | 0 | 0 | 0 | 0 | 0 | 0 | 0 | 1 | 0 | 0 | 1 | 0 | 0 | 1 | \n",
            "|1 | 0 | 1 | 0 | 0 | 0 | 0 | 0 | 0 | 0 | 0 | 0 | 0 | 0 | 0 | \n",
            "|0 | 0 | 0 | 0 | 0 | 0 | 0 | 1 | 0 | 0 | 0 | 1 | 1 | 0 | 0 | \n",
            "|0 | 0 | 0 | 1 | 0 | 1 | 0 | 0 | 0 | 0 | 1 | 1 | 1 | 1 | 0 | \n",
            "|0 | 0 | 0 | 0 | 0 | 0 | 0 | 0 | 0 | 0 | 0 | 1 | 1 | 0 | 0 | \n",
            "|1 | 1 | 0 | 0 | 0 | 0 | 0 | 1 | 0 | 0 | 0 | 0 | 0 | 0 | 0 | \n",
            "|1 | 1 | 0 | 0 | 0 | 0 | 0 | 1 | 0 | 0 | 0 | 0 | 0 | 0 | 1 | \n",
            "|0 | 0 | 0 | 0 | 0 | 0 | 0 | 0 | 0 | 0 | 0 | 0 | 0 | 0 | 1 | \n",
            "|0 | 0 | 0 | 0 | 0 | 1 | 1 | 1 | 1 | 1 | 0 | 0 | 0 | 0 | 1 | \n",
            "|0 | 0 | 0 | 0 | 0 | 1 | 1 | 1 | 1 | 1 | 0 | 0 | 0 | 0 | 0 | \n",
            "|0 | 0 | 0 | 0 | 0 | 1 | 1 | 1 | 1 | 1 | 0 | 0 | 0 | 0 | 0 | \n",
            "\n",
            "Generación:  22\n",
            "|0 | 0 | 0 | 0 | 0 | 0 | 0 | 0 | 0 | 0 | 0 | 0 | 0 | 0 | 0 | \n",
            "|0 | 0 | 0 | 0 | 0 | 0 | 0 | 0 | 0 | 0 | 0 | 0 | 0 | 0 | 0 | \n",
            "|0 | 0 | 0 | 0 | 0 | 0 | 0 | 0 | 0 | 0 | 0 | 0 | 0 | 0 | 0 | \n",
            "|0 | 0 | 0 | 0 | 0 | 0 | 0 | 0 | 0 | 0 | 0 | 0 | 0 | 0 | 0 | \n",
            "|0 | 0 | 0 | 0 | 0 | 0 | 0 | 0 | 0 | 0 | 0 | 0 | 0 | 0 | 0 | \n",
            "|0 | 0 | 0 | 0 | 0 | 0 | 0 | 0 | 0 | 0 | 0 | 0 | 0 | 0 | 0 | \n",
            "|0 | 0 | 0 | 0 | 0 | 0 | 0 | 0 | 0 | 0 | 0 | 0 | 0 | 0 | 0 | \n",
            "|0 | 0 | 0 | 1 | 0 | 0 | 0 | 0 | 0 | 0 | 0 | 0 | 0 | 0 | 0 | \n",
            "|0 | 0 | 0 | 0 | 0 | 0 | 0 | 0 | 0 | 0 | 0 | 0 | 0 | 0 | 0 | \n",
            "|0 | 0 | 0 | 0 | 0 | 0 | 0 | 0 | 0 | 0 | 0 | 0 | 0 | 0 | 0 | \n",
            "|0 | 0 | 0 | 0 | 0 | 0 | 0 | 0 | 0 | 0 | 0 | 0 | 0 | 0 | 0 | \n",
            "|0 | 0 | 0 | 0 | 0 | 0 | 0 | 0 | 0 | 0 | 0 | 0 | 0 | 0 | 0 | \n",
            "|0 | 0 | 0 | 0 | 0 | 0 | 0 | 0 | 0 | 1 | 0 | 0 | 0 | 0 | 0 | \n",
            "|0 | 0 | 0 | 0 | 0 | 0 | 0 | 0 | 0 | 0 | 0 | 0 | 0 | 0 | 0 | \n",
            "|0 | 0 | 0 | 0 | 0 | 0 | 0 | 0 | 0 | 1 | 0 | 0 | 0 | 0 | 0 | \n",
            "\n"
          ]
        }
      ]
    }
  ]
}